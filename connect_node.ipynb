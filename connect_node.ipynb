{
 "cells": [
  {
   "cell_type": "code",
   "execution_count": 1,
   "id": "6a5ff979",
   "metadata": {},
   "outputs": [
    {
     "name": "stdout",
     "output_type": "stream",
     "text": [
      "hello\n"
     ]
    }
   ],
   "source": [
    "print('hello')"
   ]
  },
  {
   "cell_type": "code",
   "execution_count": 2,
   "id": "44abb9fd",
   "metadata": {},
   "outputs": [
    {
     "name": "stdout",
     "output_type": "stream",
     "text": [
      "True\n",
      "AttributeDict({'hash': HexBytes('0x01bbd4927239d53fbdabd560480f3ac42ed1d51d473db856011e0dfcc9a7ac51'), 'parentHash': HexBytes('0xe41ef27aef6f80c6348a7c809bb1e1f20a53a781160221c6be7fd580eed195d5'), 'sha3Uncles': HexBytes('0x1dcc4de8dec75d7aab85b567b6ccd41ad312451b948a7413f0a142fd40d49347'), 'miner': '0xdadB0d80178819F2319190D340ce9A924f783711', 'stateRoot': HexBytes('0xd060f706c261a4ec1715942951c6676bba2ca191a7206821a34724d887660dc5'), 'transactionsRoot': HexBytes('0xc39aa05ef0480bc7eb4f42d9a1f98853e6cc43dc8080b8713a1c56af70ad59ad'), 'receiptsRoot': HexBytes('0xc22df1f01dd645b4fb0a98e8de578c20f0d05b50a18b9d8eee69c738f69b12c0'), 'logsBloom': HexBytes('0x14e340d74dba9085821920c1c0602f80480c9202381182131333821300a6018e88000420368d0090812828f0481ab1300e2985348cb020a0a090f04b823981789175240a1c8882f80c42c4296264b4601c422a0900600a9121906148cc64840894801004025ac0e625d0c4361d02b812183b4000384084158141f894b00980455a2610413949096009182522b2728708064100292be22a08ac0a0142445858361a6f2b1804b2381e1b069981203a2c3c1479c8e24c842bc6af3045980655885594126c062c92210664071211e1853b08a7065588036c1291c54d01130180294a30d8225423f0210a0082200030350606300e2021040aa5c04b88c2fc0849048f'), 'difficulty': 0, 'number': 22782254, 'gasLimit': 36035120, 'gasUsed': 9853203, 'timestamp': 1750864199, 'extraData': HexBytes('0x4275696c6465724e65742028466c617368626f747329'), 'mixHash': HexBytes('0xb058a8bf7fcb80d1b78dd8183c34cc6895868884dd9c35308f8df03644ce07ae'), 'nonce': HexBytes('0x0000000000000000'), 'baseFeePerGas': 6376655997, 'withdrawalsRoot': HexBytes('0x20c4ad469cc9747fc161431cef24e682f85ff94b8cb5109f80071f3a7b138412'), 'blobGasUsed': 131072, 'excessBlobGas': 0, 'parentBeaconBlockRoot': HexBytes('0x3c8eed4b3b6d1f176b70a744b1b8d3a9841c48d24dc92ba5cef09effc9356067'), 'requestsHash': '0xe3b0c44298fc1c149afbf4c8996fb92427ae41e4649b934ca495991b7852b855', 'size': 60761, 'uncles': [], 'transactions': [HexBytes('0xbfc7131a0754c05d1578881dfafe94a1a9c9e6144ab979e1b7a6fe70016a5141'), HexBytes('0x743eed38911bf2f45454b883c8c9f9b343eff6be68a323693ada83f6c9a2bcd9'), HexBytes('0xe51ec99fd2b938ab581a9a37e6800f6a2927106925e9f809a1caa3faafda5536'), HexBytes('0x7704a9f5c31ca1d5b5f8c5c7428ac66853ce56bfe1ad7c9dcaaa63878bfffae2'), HexBytes('0x974e0977e787e4251640437b83e0d0d00cad25f116b795afe9d1486550af7b3a'), HexBytes('0x848ad330e656579519394671afe3f5aa5883c781ed718adbe67a1bea82922596'), HexBytes('0x90e84ee81e3150b76fb4f41b1befb2c26cce97b97ae9ce1af8612f7123db1bef'), HexBytes('0xb514549db902d95c681d280b4128f7d55b25d6ba35c485f7f938370be3eb5134'), HexBytes('0x9a836a15585ac89b49304dc2637bb45eba9337e8fc689603dec12bf44e791189'), HexBytes('0x9c81ff41ffb6201c2ad2707801d2e13dd2a69fb3c453d9e437e95c77b7e7449c'), HexBytes('0xa555b56d0a4d5fe288ef81e37344883e3b106a64c18b24c31e716eaa54950927'), HexBytes('0x4b6b71f818bf309e6785b29f418d8d68894db97809e582480747d99b90aa59f6'), HexBytes('0x4609eb887a7381db204a974ceafbf62d99a98d27bfbf2dcd9938ec45f06145ed'), HexBytes('0x1495dab3b2fe6ed42a8390d128ed0db7fc556d3e08d06fdec02798d6c7c4a8ff'), HexBytes('0xc609d79cb185c23a5d424e2534ddda387b6212cfa6f1c0d5207dda7cb45cea2c'), HexBytes('0x2e0bb353c3658a655f2a860eaab6ababe7a240b27e1e2412506dc95375c645b9'), HexBytes('0x1179bbf5cc7e610478184b569df8e8785465498a5ec3eb6ee6adae64f42dcb94'), HexBytes('0x6a4624a986e7519977371287a15233fa8e171becfdb7689b57d7b576b0104a27'), HexBytes('0x851dad02b01732c98a9bdb80e25d790b43d67d3cfb341f0dc135d5d8807ec590'), HexBytes('0xe3874a24084653ec20f0c26a81c0aca43b7f435faf066a021ed21781540f9324'), HexBytes('0xdfce4c1b6d9e3acd8fad36fa905589f2c137a29aefa42ce15ea01a63bc3c62c5'), HexBytes('0xab6e0dcb9c4cb1552b1ebe00e64f44cd9339daa06f96a8966eb80d8c817fc2c0'), HexBytes('0x9ef6e18e46c135ac24ff90eeb3a1e8ec10801cbb22411c188298a9699f77e63b'), HexBytes('0xebe38c63ff308f7b7a79d3de14d79d78e44ab39b13efabe8b2a0896272895d23'), HexBytes('0x952e1044a50f2a0fc12936a44efe640f7f2927279a2b24462499395643b75b5b'), HexBytes('0x75bdeed663d365560f727419420c95931aaa9716099f7dfe8cf94ef6ac97b9ae'), HexBytes('0xb2957129910f918c65ebb38488c11556b5707a5a11cb66bde8f68510e69f9b45'), HexBytes('0x9cb04fdc5936bca8c14497723ebd000e5b0cd2c7b507e3fde14ea8af363c36d7'), HexBytes('0x35de65d868f52800de619dd2838b688cec46d66e57dabb681a5c8837321d6b12'), HexBytes('0x5221751669540f96e2312f9f76e4a22bfb25e5cde62c0da9aa16902008ea60fc'), HexBytes('0x4abb1cc1f6e682bb34aba75aae8f1f807266c538168ea5f8d893922db5130e32'), HexBytes('0x2a10d0fd7421d0de5b4afda49320056800783c51816a2f4bbf8d83e61d02b513'), HexBytes('0x237b4a6b13bd09c8f3e4090d170d5dd1a8ca8d82111b3955b5a57150a6414b5f'), HexBytes('0xee4d96651700d5c631f6f51515d9091b2adcf3e01abb7614623b40e33ed8caec'), HexBytes('0x99b55a032e202d8f6a37db2f7b512d94e73999d45676ce7934159e7baae6ce64'), HexBytes('0xf81c7f45c542cc97c7e607b6091c377e6a88eba6b97c9eb57bc454d111da8b21'), HexBytes('0xe6d4ccde14b74aebd89e587e7748575b03e9b51695bb5c25a1d7bc2448041a5c'), HexBytes('0x629e6141c9ee79455e39de976fba103dea5af916e58f4c7355c1e8f05d4b6c0f'), HexBytes('0x83fd22ec821cd0de5cbb6e1e7c091f2366268193c4ba4630f592e2b04f8e3e41'), HexBytes('0xb9b65dc74381a087bd68018a9a290d4d842d110915814e50adf880910166cb6e'), HexBytes('0x40a20c68128560d26ecd78e153e3cb9fe21190d3b27971d4aadbd8a74fcbdaee'), HexBytes('0x0224e02c98084c4ec8b5e1e6d86adc895945e2d361ec3d96ac2cdeca5a94ad15'), HexBytes('0xfbdf36645ff34907678376185c225872bb9a18dbf295dbfb991e9ead8f7506ff'), HexBytes('0xe916a0d028ccfc5cd2c53524fb786d26ef8c165e90bd7bd5f38bc61056469035'), HexBytes('0xdf45179bd956969f2561c75025f0bdf74506991260208f688ea5c4978d8d8856'), HexBytes('0xdbea61fb3b44d2e8d58216b8cc80651d7e297500b5ab6cec9495ef93d2f91c18'), HexBytes('0xc7d64f485717de4fe3b3ee37e2a85499b84f15fdf1e126e6448c05eaebdea4a0'), HexBytes('0x9825b6fed7d813ca283fe81679e400c9d711869669a204c36811e17fdcc2512b'), HexBytes('0x88811c79e7979819532f15e9f9097a34e810e24821710bd473ef75f051764a27'), HexBytes('0x617553552d20b89629ad188eafb9b2d1f77664662c0282ad19dcfce8e926758c'), HexBytes('0x436cc58a6aae27fd4cce79c4ebf44407e264fb956a8912f285a9c62e15a06bda'), HexBytes('0x3ae08d2917601cea55a3fb45235766eacbfc71cb97e32d4b34bb43e3073fcd46'), HexBytes('0x27862d6effcc1da172a0ceed4ae3abb382d065c1838abde2035cb181f9f2c130'), HexBytes('0x26bd2d7f8ba618510dd8030d0105936333e20e6ea198c938aef3e8cf34f12a4e'), HexBytes('0x25b29b53aee1780201bacf823ad7b00932710be85e65673d2a19a8d8e522b594'), HexBytes('0x24e080ad4db28b585e59bcd263fd668f7dfd8ac7115622f4227705c89f588552'), HexBytes('0x1f840dc125563ce5f65bee10b68c9390bc3853024d88b84b82d07904ce6f345d'), HexBytes('0x0ace499e6fc6224dab3163329fc270f24b7b154bf52218ff5d305b6f0531a3e7'), HexBytes('0x0940c34c17213f677ed1ba644b81ca042ead7789187b47227d7766c6abe7103b'), HexBytes('0x051082f5252843abfa368f6e88f3e0b402e60a54e414706373a7d70c90808d6b'), HexBytes('0x02148a41e465866787a99858ebb5c3dd60f7e2895c768fcb321a98da25691efa'), HexBytes('0x6ef1a9779f9b949593ff4363cd9f2f72ca95c919b720d9a39880d5b3fda73ec8'), HexBytes('0x1ac4b71cee5cab250215353c7a57b694403a6e9d9d4298eecd8277093e23220e'), HexBytes('0xa52637fd0ae38950bd44472cc7908e89e00c585d3f7a5ea1122fc8e6bdd5ce54'), HexBytes('0xaf2d69951a08be0f7b0cebf0566b7c191f47384a0abd7d5b28bebc1f3873a630'), HexBytes('0xd1d269a84760b08da1ecc71a586706b58b563febbade18d2893a3cd8e1c290ed'), HexBytes('0xb029ab064f8d8dc6519455da2c62a2e1ef852c57cd3a0d9ad6c8d4e2452e26db'), HexBytes('0x850a0af4f0613ab7dfefca0a353fc1a988614eccc2c8616552b9bc1185681e38'), HexBytes('0x1d9e1a051f435679ef78b234b3adfc1cb38685a400eb1b232db72f99d45b1142'), HexBytes('0x2e7f85d0930592f90f9811d382ff433c4b749c12293679ec3a7044e723a1dd6a'), HexBytes('0x0681d5d3eaca49d3ec0517a0fabfbaafc2779c0c5d1975b3cb3146997baf4cf7'), HexBytes('0xc621a212d397d1696b238ca34a31555d9c69a5f5fa8685b8d6b8b69d43c1bcd3'), HexBytes('0xdf60ac20c0f1247002d7e7ba8efb5a86b9d57ff53b4f5f01da8bbc62f089feaa'), HexBytes('0xac19830cce38509b763dccb347d62f71ea8c72b8014e7385bf03836cb8b694c8'), HexBytes('0xd70ed36207553fa09c7e0e33d49c63cbe97936cb28fab847053986cce596a1e5'), HexBytes('0xdb8e59421fd470c6b2e2f97de80716b4396cefddf1f98192e706b3db7d2deb0b'), HexBytes('0xeb9d80f7264ddaf865f3991737d78563d539f2cd2e160d30a9d9c77aa77d3254'), HexBytes('0x2da95ce0b711897316f146d6e89032f60fb376880dad21e940d2fab97bb716af'), HexBytes('0x7541591e2a4d2572ed2d9f7545eae6a60dbb938970b63f3c0d68dc116725b636'), HexBytes('0xe4ccd5c139fadf8901059092063b048e3a444b83c3fb61c9235e70e0d9cbb86a'), HexBytes('0xe3645f209ad533cb447f2a3922cac3a02d227c9453b03f851537b79b6eb49de7'), HexBytes('0xc1498f9a52c2b76da87954b58b6a9f9735c6ef881af2efc0f70bbf97340dab2a'), HexBytes('0xa9325d2e1c81d06df70eb6c555cae6f0fcd7362bc21d57519f4a159e688fd6e1'), HexBytes('0x8e12af179b84a9fee0f9ff3c5392756d68ea2d026fe8de66dda3cb61b7a52902'), HexBytes('0x6ca5d9e7e7f7a4c4a55709cbb8c428124dab85cd1d2e0f17a4b7a6d9d56f0765'), HexBytes('0x6ab2cc8c96270db5b130d275341c31d322657f0df445c9c78e3f42309d4deab3'), HexBytes('0x3bf336f5094478016a913b0865cec4ddb33c4eda925e7315e9ca4755d8b09214'), HexBytes('0xdd7a67fef8c6d28e725fbe56cfd96174c6b5093027bed478ebae1ad4672bb326'), HexBytes('0xb179191116a1f51c6568bab63598976e288f941b011fbd76237952db56800f00'), HexBytes('0x984ae189a4e6275512e09a1bfc205bca48a27d9dafb61da764b1298d2abdc666'), HexBytes('0x882123ff39bf0455d9f2777e2632c19535c8ffcc8434a257610b4eb31c9da92c'), HexBytes('0x542a1523abe5a75b3bb436e6813317e33a606d579dbe213c074737a2eead6d33'), HexBytes('0x507a9e80a5a809dc5f3ef4d189314fc0ea3973ab0190a5de6c4bc5e6be22d8b0'), HexBytes('0x311c106f7ac5bdd10cd2d5ff810e4b6f4324b5fce2c5404d98faa8c6876b64e6'), HexBytes('0xc887362afd280a631e5712e218e5a1241586582b52b301d656a2304ce0f59fa9'), HexBytes('0x32b39700630f39fa02a1d916840c70f6355fd1d10cd2be15433dc05d0048901d'), HexBytes('0x0fee42a2ccff540bd2b53aa13a5d64bf577bc7e6affed8a81fa362ca53c3bdd5'), HexBytes('0xb264923ca737e9d60a56d664b86e92e8b8ccb4a6c088229b68be97edc0315761'), HexBytes('0xb1966ddf439fe2e44d9a04c20b416508e5a0dbacc56aa77e668b5980145ce632'), HexBytes('0xa10a18b77ed63e1a6c101e144c43d66bff7a9b2770a1a3e95519cef6d8aafeaf'), HexBytes('0x79f48477b782e7e6d52ff0098cfc80d09db23a98a7f6c355c40d00c3fd1937b1'), HexBytes('0xc2b95790531c13e50852b5261ec2a419406d8bcf2f5142f5c26fe114b9c9b5b7'), HexBytes('0x8c290ff7de957012bf90ec6b4e87cc1f829f260d54b2f4427d8ec69e159100ad'), HexBytes('0x2ed8a761705f83927d3bc2ace916ce6fbbbd0e7e7774d3246cbfa2074370ed41'), HexBytes('0x2669a0dd1d19b5feecd4684d6c54c4ceca27ef314aeae862bc26674c06321b9f'), HexBytes('0x118ade9ca2c16fd0ff883500b279c3ece5e8bcaf9f36d538cb9124a73d0852f5'), HexBytes('0x226932b749ccc68661529abccb92f03f180a0cc82e0ca08c330e8452a7d48661'), HexBytes('0xf626be009416969a190f6075bd23a45160261e876b7d4b8f830f89e292ebd1dc'), HexBytes('0xd66ebdde2ffce8239e5ee2c7dc76bb6537f25a044877cb32d1d7b808e3dfdb42'), HexBytes('0x69a0b41c51b595238b68b3a5c6b6a94c1a37a2b64bf41df4b579bd8333dedc26'), HexBytes('0x46e3685de12c9915ddfd5a9b32ab0c1381505917246dec95d600387b1de1c37b'), HexBytes('0x9f88b3e562c7364a22c7d9fd14fa3273f295f6e28c1cc4ec95ed97885650c8b4'), HexBytes('0x2457fd64db952270bb3ae18b4e3efbf1d7ff23469a5b4fb4ff62199efc710fce'), HexBytes('0x8adb5aca446212445858b0d750df8387150ea19174b624f88bd3b78105706516'), HexBytes('0x453f943a3a975da2a19eec522ae5aa0495dc89f98a9c6767dd2a8d88bd6cfa98'), HexBytes('0x8c48c9abfb6d4970b2b3b60ae5b6c7b30b33fb13278cae3d7a9779e0848ebaa8'), HexBytes('0xd120fa4a2139db3b12b5e8c02f00acbd16aa68e896a27df5d46ab4958671fa3f'), HexBytes('0x344b4632d02ad25a8650560901294073166ad50f1697286e0fbf720895627a9a'), HexBytes('0x89d10d5f37a4b6c90f4c9c3098412663d88400ce3e266b525b3104e9446aa2b1'), HexBytes('0x1d9fbea1eb400317c7e783c64771b6b2453ba6fec7ac44d6d1e16b19d42989ea'), HexBytes('0x1cc237beb107b517132293de572622545beea3a4bb0303394243b9bb60934435'), HexBytes('0xe763008d03ca407b9610bb3000e2dc327b3e31a5316ba36d6654a2bb8af227f9'), HexBytes('0xca69e130fd7aef9f551e8bf87ddfae9d11f6da6f030b6d75442a009c16fc5a84'), HexBytes('0x89c7ae5423280a8b98ec4bc24bd99352bfdf16d059e222a09597623ca5fe5b7a'), HexBytes('0x09b8bc6d8019044383560af2d7cbb5f17ee1ffc50310474834d3e4dfd25e1862'), HexBytes('0x8541caea67ee677a6dd4e3f9d1510a5665be65b7a3aba0e95b93e32d27e39545'), HexBytes('0x159d2ac8c7c88f4c0af984a2847b5b67fce3299e3d4a30be46252c179e4a9117'), HexBytes('0x95f712cf602ad23adf7eee02daaa6ad5e13a9afa4ad233b9286468450e421d81'), HexBytes('0x09b3300d0d88c17aa5e14e31093bc62f3c74613de80ffa99d46c77ac3742fb11'), HexBytes('0x408956ea275f662a71af1f8cfc1e6b5b9977910f67b83b5796b4ae4ce2d26867'), HexBytes('0xbe2062784dcd5fd1614ab5b2f94765abcdf924272a517bda8fd072c315dc9399'), HexBytes('0x9d8385258424b3b585f2318f0588066b963a7367b29627df6f17bdb1272951a5'), HexBytes('0xb7a578231c03797529af1687d00c6b0fd918e8cd355ed8f3880bec60208965e3'), HexBytes('0xc3070d36620102d8397f679533dc37ff376014fda076043b1f4d2ae2b015d230'), HexBytes('0xe4881d8d40764fb2058432761ca94f09e25955b6eb505211a37c7681ec135898'), HexBytes('0x08d46f51a831c0b996b7cd1b58bbf712f569bfe2ee68a937fd45cebd5017e49d'), HexBytes('0x8f45df77ec3776ac6a49ea31300f4cfef138bf29908c44a0b968ac7d96e96b80'), HexBytes('0x46265ee5109f2aef127d497c807d60a60e65fd804a2029b5afc14fd64703fcce'), HexBytes('0x3f9ba9efc3da52a8431717a2b8b9f7eeaea4447b94c730a8662bba87f7c25fb7'), HexBytes('0xc7194e620ba486a39e5991fae3ced7fa4954ddcb5f5157caa7f57008ccad8b3a'), HexBytes('0xfd0a467901b373e94b32a927ca2bcc8a8ae2e87eda1a92eabae0907f4a1167a8'), HexBytes('0x3036977d718240f0c260760567fddcb1f4a46de45b722d5458eacaee17820b85'), HexBytes('0x12d2554cd549edba081f9af4de1e381d3013e4121275a1a0421e8df0e9c1d1b9'), HexBytes('0xfc224815faf8b7e889945d9e1684352e61b714338f7da647ab383517f494dc5d'), HexBytes('0xfbf3949893895e9e05a58150ff8522c2f5af0334a896ee935625e6038e12e05a'), HexBytes('0x48507da0e93a80680b57936d655615e35bbb96c982a0b8f95b53f122198b7619'), HexBytes('0xe122304e6312ccb9668302469237c2bf0ed926d3441105f3b6367b739609a8ef'), HexBytes('0xa0f41d42b8f4fd6adf2fddcc788ed9a89d6de9e0b881d230922312ee89aa71a2'), HexBytes('0xef2747adf2dc680871c1fa8518663ebdc251f92c76dce60d872fe2cd61facdaa'), HexBytes('0xd1eb3c6be0324116a33be6f44ac1dcb24cdd8f831aba12eb7401ddd60366c6e0'), HexBytes('0xc4016d321ce04e5e2de047cc4d1de3a08dabfaebaa598a275d30df92f09f067c'), HexBytes('0x971fadd17cedef3158993540a9ca4b7935728c8c5588fd029b2fdcb362bfbf8c'), HexBytes('0x7f2028e819beb55607cff39277191b673e9bcc1cc3f7c9aa420d8d382a961ef1'), HexBytes('0x2715343f51861bafe0272d485e4931839a4a6e73be318c16bcfbc9d1aebe7d28')], 'withdrawals': [AttributeDict({'index': 91956683, 'validatorIndex': 233596, 'address': '0xB9D7934878B5FB9610B3fE8A5e441e8fad7E293f', 'amount': 19153090}), AttributeDict({'index': 91956684, 'validatorIndex': 233597, 'address': '0xB9D7934878B5FB9610B3fE8A5e441e8fad7E293f', 'amount': 19165328}), AttributeDict({'index': 91956685, 'validatorIndex': 233598, 'address': '0xB9D7934878B5FB9610B3fE8A5e441e8fad7E293f', 'amount': 19125143}), AttributeDict({'index': 91956686, 'validatorIndex': 233599, 'address': '0xB9D7934878B5FB9610B3fE8A5e441e8fad7E293f', 'amount': 19136183}), AttributeDict({'index': 91956687, 'validatorIndex': 233600, 'address': '0xB9D7934878B5FB9610B3fE8A5e441e8fad7E293f', 'amount': 19158812}), AttributeDict({'index': 91956688, 'validatorIndex': 233601, 'address': '0xB9D7934878B5FB9610B3fE8A5e441e8fad7E293f', 'amount': 19113752}), AttributeDict({'index': 91956689, 'validatorIndex': 233602, 'address': '0xB9D7934878B5FB9610B3fE8A5e441e8fad7E293f', 'amount': 63476708}), AttributeDict({'index': 91956690, 'validatorIndex': 233603, 'address': '0xB9D7934878B5FB9610B3fE8A5e441e8fad7E293f', 'amount': 19171965}), AttributeDict({'index': 91956691, 'validatorIndex': 233604, 'address': '0xB9D7934878B5FB9610B3fE8A5e441e8fad7E293f', 'amount': 64938332}), AttributeDict({'index': 91956692, 'validatorIndex': 233605, 'address': '0xB9D7934878B5FB9610B3fE8A5e441e8fad7E293f', 'amount': 19183179}), AttributeDict({'index': 91956693, 'validatorIndex': 233606, 'address': '0xB9D7934878B5FB9610B3fE8A5e441e8fad7E293f', 'amount': 19188900}), AttributeDict({'index': 91956694, 'validatorIndex': 233607, 'address': '0xB9D7934878B5FB9610B3fE8A5e441e8fad7E293f', 'amount': 19193380}), AttributeDict({'index': 91956695, 'validatorIndex': 233608, 'address': '0xB9D7934878B5FB9610B3fE8A5e441e8fad7E293f', 'amount': 19203567}), AttributeDict({'index': 91956696, 'validatorIndex': 233609, 'address': '0xB9D7934878B5FB9610B3fE8A5e441e8fad7E293f', 'amount': 19201400}), AttributeDict({'index': 91956697, 'validatorIndex': 233610, 'address': '0xB9D7934878B5FB9610B3fE8A5e441e8fad7E293f', 'amount': 19221609}), AttributeDict({'index': 91956698, 'validatorIndex': 233611, 'address': '0xB9D7934878B5FB9610B3fE8A5e441e8fad7E293f', 'amount': 19197234})]})\n"
     ]
    }
   ],
   "source": [
    "# Setup\n",
    "from web3 import Web3\n",
    "\n",
    "alchemy_url = \"https://eth-mainnet.g.alchemy.com/v2/XtWfn0d5ooMWIVs5AQMxOAb474Km-hs7\"\n",
    "w3 = Web3(Web3.HTTPProvider(alchemy_url))\n",
    "\n",
    "# Print if web3 is successfully connected\n",
    "print(w3.is_connected())\n",
    "\n",
    "# Get the latest block number\n",
    "latest_block = w3.eth.get_block(\"latest\")\n",
    "print(latest_block)"
   ]
  },
  {
   "cell_type": "code",
   "execution_count": 3,
   "id": "3a75e99a",
   "metadata": {},
   "outputs": [
    {
     "name": "stdout",
     "output_type": "stream",
     "text": [
      "Uniswap V2 WBTC/USDC pair: 0x004375Dff511095CC5A197A54140a24eFEF3A416\n"
     ]
    }
   ],
   "source": [
    "# 📦 Cell 2: Get Uniswap V2 Pair for WBTC/USDC\n",
    "UNISWAP_FACTORY = \"0x5C69bEe701ef814a2B6a3EDD4B1652CB9cc5aA6f\"\n",
    "factory_abi = [{\n",
    "    \"constant\": True,\n",
    "    \"inputs\": [{\"name\": \"tokenA\", \"type\": \"address\"}, {\"name\": \"tokenB\", \"type\": \"address\"}],\n",
    "    \"name\": \"getPair\",\n",
    "    \"outputs\": [{\"name\": \"pair\", \"type\": \"address\"}],\n",
    "    \"payable\": False,\n",
    "    \"stateMutability\": \"view\",\n",
    "    \"type\": \"function\"\n",
    "}]\n",
    "\n",
    "factory = w3.eth.contract(address=UNISWAP_FACTORY, abi=factory_abi)\n",
    "\n",
    "WBTC = \"0x2260FAC5E5542a773Aa44fBCfeDf7C193bc2C599\"\n",
    "USDC = \"0xA0b86991c6218b36c1d19D4a2e9Eb0cE3606eB48\"\n",
    "\n",
    "pair_address = factory.functions.getPair(WBTC, USDC).call()\n",
    "print(\"Uniswap V2 WBTC/USDC pair:\", pair_address)\n"
   ]
  },
  {
   "cell_type": "code",
   "execution_count": 4,
   "id": "63731ef3",
   "metadata": {},
   "outputs": [],
   "source": [
    "# # 📦 Cell 3: Get past swap logs (small block window to avoid 400 error)\n",
    "# from_block = 19800000\n",
    "# to_block = 19801000\n",
    "\n",
    "# swap_topic = w3.keccak(text=\"Swap(address,uint256,uint256,uint256,uint256,address)\").hex()\n",
    "\n",
    "# logs = w3.eth.get_logs({\n",
    "#     \"fromBlock\": from_block,\n",
    "#     \"toBlock\": to_block,\n",
    "#     \"address\": pair_address,\n",
    "#     \"topics\": [swap_topic]\n",
    "# })\n",
    "\n",
    "# print(f\"Found {len(logs)} swap logs\")\n"
   ]
  },
  {
   "cell_type": "code",
   "execution_count": 5,
   "id": "684f668f",
   "metadata": {},
   "outputs": [],
   "source": [
    "# import requests\n",
    "# import json\n",
    "\n",
    "# # Historical Token Prices (POST /:apiKey/tokens/historical)\n",
    "# response = requests.post(\n",
    "#   \"https://api.g.alchemy.com/prices/v1/docs-demo/tokens/historical\",\n",
    "#   headers={},\n",
    "#   json={\n",
    "#     \"network\": \"eth-mainnet\",\n",
    "#     \"address\": \"0xE0f63A424a4439cBE457D80E4f4b51aD25b2c56C\",\n",
    "#     \"startTime\": \"2024-06-20T00:00:00Z\",\n",
    "#     \"endTime\": \"2024-06-26T23:59:59Z\",\n",
    "#     \"interval\": \"5m\"\n",
    "#   },\n",
    "# )\n",
    "\n",
    "# print(response.json())"
   ]
  }
 ],
 "metadata": {
  "kernelspec": {
   "display_name": "base",
   "language": "python",
   "name": "python3"
  },
  "language_info": {
   "codemirror_mode": {
    "name": "ipython",
    "version": 3
   },
   "file_extension": ".py",
   "mimetype": "text/x-python",
   "name": "python",
   "nbconvert_exporter": "python",
   "pygments_lexer": "ipython3",
   "version": "3.12.4"
  }
 },
 "nbformat": 4,
 "nbformat_minor": 5
}
